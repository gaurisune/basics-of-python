{
  "nbformat": 4,
  "nbformat_minor": 0,
  "metadata": {
    "colab": {
      "provenance": []
    },
    "kernelspec": {
      "name": "python3",
      "display_name": "Python 3"
    },
    "language_info": {
      "name": "python"
    }
  },
  "cells": [
    {
      "cell_type": "markdown",
      "source": [
        "# PYTHON BASIC QUESTIONS"
      ],
      "metadata": {
        "id": "R_aE9pW-c-KM"
      }
    },
    {
      "cell_type": "markdown",
      "source": [
        "1. What is Python ?\n"
      ],
      "metadata": {
        "id": "ZCARHjZZdDXf"
      }
    },
    {
      "cell_type": "markdown",
      "source": [
        "Python is a high-level ,interpreted programming language which is simple and easy to read.\n",
        "Python is most popular for it's clear syntax and extensive libraries along with simplicity.\n"
      ],
      "metadata": {
        "id": "4EUG84CKc87A"
      }
    },
    {
      "cell_type": "markdown",
      "source": [
        "2. What is an interpreter in python ?\n"
      ],
      "metadata": {
        "id": "BUwhb19ie4Hw"
      }
    },
    {
      "cell_type": "markdown",
      "source": [
        " An interpreter in python executes the code line by line and ttranslating it into machine code so that it can run directly without needing compilation."
      ],
      "metadata": {
        "id": "s-LkW9oBfEvK"
      }
    },
    {
      "cell_type": "markdown",
      "source": [
        "3. What are pre-defined keywords in python ?"
      ],
      "metadata": {
        "id": "C577akLQfhxQ"
      }
    },
    {
      "cell_type": "markdown",
      "source": [
        "Keywords are reserved words in python that have special meanings and are used to perform specific operations."
      ],
      "metadata": {
        "id": "CfM4VuaggA1l"
      }
    },
    {
      "cell_type": "markdown",
      "source": [
        "4. Can keywords be used as variable names ?\n"
      ],
      "metadata": {
        "id": "jer0jCDUgWuC"
      }
    },
    {
      "cell_type": "markdown",
      "source": [
        "No , keywords are not used as variable names because they are reserved for specific purpose in the language."
      ],
      "metadata": {
        "id": "CcFEMYiJhDl8"
      }
    },
    {
      "cell_type": "markdown",
      "source": [
        "5. What is mutability in python ?"
      ],
      "metadata": {
        "id": "RmjuMunYhaO7"
      }
    },
    {
      "cell_type": "markdown",
      "source": [
        "Mutability refers to whether an object's value can be changed after it is created . Mutable objects can be modified ,while immutable ones cannot.\n"
      ],
      "metadata": {
        "id": "ij4Vfmlxh706"
      }
    },
    {
      "cell_type": "markdown",
      "source": [
        "6.Why are list mutable ,but tuples are immutable ?"
      ],
      "metadata": {
        "id": "ZBhQLk83ig6U"
      }
    },
    {
      "cell_type": "markdown",
      "source": [
        "Lists are mutable because they are designed to be flexible for storing and modifying data .Tuples are immutable to ensure data integrity and allow use as keys in dictionaries."
      ],
      "metadata": {
        "id": "Ij_0Oefli4CQ"
      }
    },
    {
      "cell_type": "markdown",
      "source": [
        "7. What is the difference between \"==\" and \"is\" operators in python ?"
      ],
      "metadata": {
        "id": "S9dBMhBfjW98"
      }
    },
    {
      "cell_type": "markdown",
      "source": [
        "\"==\" checks whether two operators in python have same values or not .\n",
        "\"is\" checks if two objects are the same in memory(having same identity)."
      ],
      "metadata": {
        "id": "cDNz_vG1jk_4"
      }
    },
    {
      "cell_type": "markdown",
      "source": [
        "8.What are logiacl operators in python ?"
      ],
      "metadata": {
        "id": "d6TQzPWwkq5o"
      }
    },
    {
      "cell_type": "markdown",
      "source": [
        "Logical operators combine conditional statements : and ,or ,not."
      ],
      "metadata": {
        "id": "hmxOXreHk39U"
      }
    },
    {
      "cell_type": "markdown",
      "source": [
        "9. What is typecasting in python ?"
      ],
      "metadata": {
        "id": "TpFXW8QvlFqL"
      }
    },
    {
      "cell_type": "markdown",
      "source": [
        "Typecasting converts a variable from one data type to another . for ex; converting an integer to string using str()."
      ],
      "metadata": {
        "id": "BXf_c4BVlOL9"
      }
    },
    {
      "cell_type": "markdown",
      "source": [
        "10. What is difference between implict and explict type casting ?"
      ],
      "metadata": {
        "id": "ZiEwg3E8loDd"
      }
    },
    {
      "cell_type": "markdown",
      "source": [
        "\n",
        "*   Implicit : Done automatically by python(e.g; converting int to float in arithmetic).\n",
        "*   Explicit : Done manually by the programmer using functions like int(),float(),str().\n",
        "\n"
      ],
      "metadata": {
        "id": "VYCr-RPdlz0m"
      }
    },
    {
      "cell_type": "markdown",
      "source": [
        "11. What is  purpose of conditional statements in python ?\n"
      ],
      "metadata": {
        "id": "xsijhYvAmgf8"
      }
    },
    {
      "cell_type": "markdown",
      "source": [
        "Conditional statements allow decision-making in code , executing different blocks of code based on certain conditions."
      ],
      "metadata": {
        "id": "SBnW-J-YmyNt"
      }
    },
    {
      "cell_type": "markdown",
      "source": [
        "12. How does the elif statement works?"
      ],
      "metadata": {
        "id": "t2JuvZLAnokX"
      }
    },
    {
      "cell_type": "markdown",
      "source": [
        "elif statement checks multiple conditions sequentially.If one condition is true ,the corresponding block is executed and the rest are skipped."
      ],
      "metadata": {
        "id": "K7tRZUTHnwjk"
      }
    },
    {
      "cell_type": "markdown",
      "source": [
        "13. What is difference between for and while loops ?"
      ],
      "metadata": {
        "id": "jcKi_bzYoIVO"
      }
    },
    {
      "cell_type": "markdown",
      "source": [
        "\n",
        "*  For loop: Used when number of iterations are known.\n",
        "*  while loop: Used when the loop continuous until a condition becomes false.\n",
        "\n"
      ],
      "metadata": {
        "id": "IGhO3LaJoV1i"
      }
    },
    {
      "cell_type": "markdown",
      "source": [
        "14. Describe a scenario where a while loop is more suitable than a for loop."
      ],
      "metadata": {
        "id": "_Yn61Qtno0sD"
      }
    },
    {
      "cell_type": "markdown",
      "source": [
        "While loop is better when the no. of iterations is uncertain , like repeatedly asking a user for input until they enter valid data"
      ],
      "metadata": {
        "id": "i97I9owVpDPk"
      }
    },
    {
      "cell_type": "markdown",
      "source": [
        "# PRACTICAL QUESTIONS"
      ],
      "metadata": {
        "id": "GkllRJCQpqTl"
      }
    },
    {
      "cell_type": "markdown",
      "source": [
        "1. Write a python program to print \"Hello ,World!\"."
      ],
      "metadata": {
        "id": "U3PGq5whqC00"
      }
    },
    {
      "cell_type": "code",
      "source": [
        "print(\"Hello,World!\")"
      ],
      "metadata": {
        "colab": {
          "base_uri": "https://localhost:8080/"
        },
        "id": "dRzB45diqTPj",
        "outputId": "72254b33-e57e-45bb-cd49-e9846223237e"
      },
      "execution_count": 1,
      "outputs": [
        {
          "output_type": "stream",
          "name": "stdout",
          "text": [
            "Hello,World!\n"
          ]
        }
      ]
    },
    {
      "cell_type": "markdown",
      "source": [
        "2. Write a python program that displays your name and age ."
      ],
      "metadata": {
        "id": "xBr2LdXIquk1"
      }
    },
    {
      "cell_type": "code",
      "source": [
        "print(\"My Name is Gauri Nitesh Sune\")\n",
        "print(\"My Age is 20\")"
      ],
      "metadata": {
        "colab": {
          "base_uri": "https://localhost:8080/"
        },
        "id": "eus7cJf_q55m",
        "outputId": "b428c1be-3a81-4909-de85-9688811f9e11"
      },
      "execution_count": 2,
      "outputs": [
        {
          "output_type": "stream",
          "name": "stdout",
          "text": [
            "My Name is Gauri Nitesh Sune\n",
            "My Age is 20\n"
          ]
        }
      ]
    },
    {
      "cell_type": "markdown",
      "source": [
        "3.Write a code to print all the predefined keywords in python using the keyword library."
      ],
      "metadata": {
        "id": "2L92hVAurKEw"
      }
    },
    {
      "cell_type": "code",
      "source": [
        "import keyword\n",
        "print(keyword.kwlist)"
      ],
      "metadata": {
        "colab": {
          "base_uri": "https://localhost:8080/"
        },
        "id": "giv2HYXvr8NT",
        "outputId": "fec3b83e-6018-436d-d926-9502143d89ec"
      },
      "execution_count": 3,
      "outputs": [
        {
          "output_type": "stream",
          "name": "stdout",
          "text": [
            "['False', 'None', 'True', 'and', 'as', 'assert', 'async', 'await', 'break', 'class', 'continue', 'def', 'del', 'elif', 'else', 'except', 'finally', 'for', 'from', 'global', 'if', 'import', 'in', 'is', 'lambda', 'nonlocal', 'not', 'or', 'pass', 'raise', 'return', 'try', 'while', 'with', 'yield']\n"
          ]
        }
      ]
    },
    {
      "cell_type": "markdown",
      "source": [
        "4.Write a python program that checks if the given word is a python keyword."
      ],
      "metadata": {
        "id": "KEml4qaysGpS"
      }
    },
    {
      "cell_type": "code",
      "source": [
        "import keyword\n",
        "var = input(\"Enter any word\")\n",
        "\n",
        "if keyword.iskeyword(var):\n",
        "  print(\"Entered word is keyword\")\n",
        "else:\n",
        "  print(\"Entered word is not keyword\")"
      ],
      "metadata": {
        "colab": {
          "base_uri": "https://localhost:8080/"
        },
        "id": "Q80E7jcxsjAs",
        "outputId": "7ced032b-7187-4026-adc7-a4fda3628c74"
      },
      "execution_count": 13,
      "outputs": [
        {
          "output_type": "stream",
          "name": "stdout",
          "text": [
            "Enter any wordif\n",
            "Entered word is keyword\n"
          ]
        }
      ]
    },
    {
      "cell_type": "markdown",
      "source": [
        " 5.Create a list and tuple in python,and demonstrate how attempting to change an element works differently for each."
      ],
      "metadata": {
        "id": "sHEeQUUutB8H"
      }
    },
    {
      "cell_type": "code",
      "source": [
        "mylist =[10,20,30]\n",
        "mytuple=(10,20,30)\n",
        "mylist[0] =100\n",
        "print(mylist)\n",
        "mytuple[0] =100\n",
        "print(mytuple)"
      ],
      "metadata": {
        "colab": {
          "base_uri": "https://localhost:8080/",
          "height": 211
        },
        "id": "SaepENaMv-pr",
        "outputId": "7baa2056-bae5-42c2-9f04-115dda6ddafe"
      },
      "execution_count": 27,
      "outputs": [
        {
          "output_type": "stream",
          "name": "stdout",
          "text": [
            "[100, 20, 30]\n"
          ]
        },
        {
          "output_type": "error",
          "ename": "TypeError",
          "evalue": "'tuple' object does not support item assignment",
          "traceback": [
            "\u001b[0;31m---------------------------------------------------------------------------\u001b[0m",
            "\u001b[0;31mTypeError\u001b[0m                                 Traceback (most recent call last)",
            "\u001b[0;32m<ipython-input-27-0358d9261a3a>\u001b[0m in \u001b[0;36m<cell line: 5>\u001b[0;34m()\u001b[0m\n\u001b[1;32m      3\u001b[0m \u001b[0mmylist\u001b[0m\u001b[0;34m[\u001b[0m\u001b[0;36m0\u001b[0m\u001b[0;34m]\u001b[0m \u001b[0;34m=\u001b[0m\u001b[0;36m100\u001b[0m\u001b[0;34m\u001b[0m\u001b[0;34m\u001b[0m\u001b[0m\n\u001b[1;32m      4\u001b[0m \u001b[0mprint\u001b[0m\u001b[0;34m(\u001b[0m\u001b[0mmylist\u001b[0m\u001b[0;34m)\u001b[0m\u001b[0;34m\u001b[0m\u001b[0;34m\u001b[0m\u001b[0m\n\u001b[0;32m----> 5\u001b[0;31m \u001b[0mmytuple\u001b[0m\u001b[0;34m[\u001b[0m\u001b[0;36m0\u001b[0m\u001b[0;34m]\u001b[0m \u001b[0;34m=\u001b[0m\u001b[0;36m100\u001b[0m\u001b[0;34m\u001b[0m\u001b[0;34m\u001b[0m\u001b[0m\n\u001b[0m\u001b[1;32m      6\u001b[0m \u001b[0mprint\u001b[0m\u001b[0;34m(\u001b[0m\u001b[0mmytuple\u001b[0m\u001b[0;34m)\u001b[0m\u001b[0;34m\u001b[0m\u001b[0;34m\u001b[0m\u001b[0m\n",
            "\u001b[0;31mTypeError\u001b[0m: 'tuple' object does not support item assignment"
          ]
        }
      ]
    },
    {
      "cell_type": "markdown",
      "source": [
        "6.Write a function to demonstrate the behavior of mutable and immutable arguments."
      ],
      "metadata": {
        "id": "d5-2s-Hgve9z"
      }
    },
    {
      "cell_type": "code",
      "source": [
        "def demo(mut,im):\n",
        "  mut.append(99)\n",
        "  print(\"insidefunction(mutable):\",mut)\n",
        "  im =im+99\n",
        "  print(\"inside function(immutable):\",im)\n",
        "mutablelist=[1,2,3]\n",
        "immutableint=42\n",
        "print(\"before function call:\")\n",
        "print(\"Mutable object::\",mutablelist)\n",
        "print(\"Immutable object::\",immutableint)\n",
        "demo(mutablelist,immutableint)\n",
        "print(\"Mutable object::\",mutablelist)\n",
        "print(\"Immutable object::\",immutableint)"
      ],
      "metadata": {
        "colab": {
          "base_uri": "https://localhost:8080/"
        },
        "id": "JHcRd5dfv9CQ",
        "outputId": "cb814da7-2970-4b7d-b750-c161ef14e189"
      },
      "execution_count": 38,
      "outputs": [
        {
          "output_type": "stream",
          "name": "stdout",
          "text": [
            "before function call:\n",
            "Mutable object:: [1, 2, 3]\n",
            "Immutable object:: 42\n",
            "insidefunction(mutable): [1, 2, 3, 99]\n",
            "inside function(immutable): 141\n",
            "Mutable object:: [1, 2, 3, 99]\n",
            "Immutable object:: 42\n"
          ]
        }
      ]
    },
    {
      "cell_type": "markdown",
      "source": [
        "7.Write a function to demonstrate the behavior of mutable and immutable arguments."
      ],
      "metadata": {
        "id": "YGlg8U1SvwzJ"
      }
    },
    {
      "cell_type": "code",
      "source": [
        "def demo(mut,im):\n",
        "  mut.append(99)\n",
        "  print(\"insidefunction(mutable):\",mut)\n",
        "  im =im+99\n",
        "  print(\"inside function(immutable):\",im)\n",
        "mutablelist=[1,2,3]\n",
        "immutableint=42\n",
        "print(\"before function call:\")\n",
        "print(\"Mutable object::\",mutablelist)\n",
        "print(\"Immutable object::\",immutableint)\n",
        "demo(mutablelist,immutableint)\n",
        "print(\"Mutable object::\",mutablelist)\n",
        "print(\"Immutable object::\",immutableint)"
      ],
      "metadata": {
        "colab": {
          "base_uri": "https://localhost:8080/"
        },
        "id": "0NxYNiuiv5l-",
        "outputId": "3bd3d971-f267-4cc6-db8a-f85dcdae61fa"
      },
      "execution_count": 37,
      "outputs": [
        {
          "output_type": "stream",
          "name": "stdout",
          "text": [
            "before function call:\n",
            "Mutable object:: [1, 2, 3]\n",
            "Immutable object:: 42\n",
            "insidefunction(mutable): [1, 2, 3, 99]\n",
            "inside function(immutable): 141\n",
            "Mutable object:: [1, 2, 3, 99]\n",
            "Immutable object:: 42\n"
          ]
        }
      ]
    },
    {
      "cell_type": "markdown",
      "source": [
        "8. Write a pogram to demonstrate the use of logical operators."
      ],
      "metadata": {
        "id": "LX9vIfcPv6pv"
      }
    },
    {
      "cell_type": "code",
      "source": [
        "var1 = 2\n",
        "var2 = 3\n",
        "print(2 and 3)\n",
        "print(2 or 3)\n",
        "print(not 2)"
      ],
      "metadata": {
        "colab": {
          "base_uri": "https://localhost:8080/"
        },
        "id": "HetcDdl-wNra",
        "outputId": "bfa6466e-c5a6-44ec-8f22-3073e38e2b05"
      },
      "execution_count": 26,
      "outputs": [
        {
          "output_type": "stream",
          "name": "stdout",
          "text": [
            "3\n",
            "2\n",
            "False\n"
          ]
        }
      ]
    },
    {
      "cell_type": "markdown",
      "source": [
        "9. Write a python program to convert user input from string to intger ,float and boolean types."
      ],
      "metadata": {
        "id": "dw6OjwEywONB"
      }
    },
    {
      "cell_type": "code",
      "source": [
        "i = input(\"Enter any number\")\n",
        "i = int(i)\n",
        "print(i)\n",
        "i = float(i)\n",
        "print(i)\n",
        "i= bool(i)\n",
        "print(i)"
      ],
      "metadata": {
        "colab": {
          "base_uri": "https://localhost:8080/"
        },
        "id": "MUT46zxJwlmp",
        "outputId": "c4792350-efc9-4cf7-ffe7-9bca9f482540"
      },
      "execution_count": 24,
      "outputs": [
        {
          "output_type": "stream",
          "name": "stdout",
          "text": [
            "Enter any number0\n",
            "0\n",
            "0.0\n",
            "False\n"
          ]
        }
      ]
    },
    {
      "cell_type": "markdown",
      "source": [
        "10.Write a code to demonstrate type casting with list elements."
      ],
      "metadata": {
        "id": "3YQww950wmEX"
      }
    },
    {
      "cell_type": "code",
      "source": [
        "mylist =[10,20,30]\n",
        "print(mylist)\n",
        "mylist =[str(i) for i in mylist]\n",
        "print(mylist)\n"
      ],
      "metadata": {
        "colab": {
          "base_uri": "https://localhost:8080/"
        },
        "id": "usN6svTRw3Vk",
        "outputId": "62d5a369-6697-47c3-9dd0-f76759c29bf9"
      },
      "execution_count": 28,
      "outputs": [
        {
          "output_type": "stream",
          "name": "stdout",
          "text": [
            "[10, 20, 30]\n",
            "['10', '20', '30']\n"
          ]
        }
      ]
    },
    {
      "cell_type": "markdown",
      "source": [
        "11. Write a program that checks if a number is positive ,negative or zero."
      ],
      "metadata": {
        "id": "g7F8i55-w4M0"
      }
    },
    {
      "cell_type": "code",
      "source": [
        "i= int(input(\"Enter any integer number\"))\n",
        "if(i > 0):\n",
        "  print(\"Number is positive\")\n",
        "elif(i < 0):\n",
        "  print(\"Number is negative\")\n",
        "else:\n",
        "  print(\"Number is zero\")\n",
        ""
      ],
      "metadata": {
        "colab": {
          "base_uri": "https://localhost:8080/"
        },
        "id": "8zilHCsrxShL",
        "outputId": "e8da6987-bda7-4a8f-cdb9-a4fa3cd7f1ac"
      },
      "execution_count": 17,
      "outputs": [
        {
          "output_type": "stream",
          "name": "stdout",
          "text": [
            "Enter any integer number-1\n",
            "Number is negative\n"
          ]
        }
      ]
    },
    {
      "cell_type": "markdown",
      "source": [
        "12. Write a for loop to print numbers from 1 to 10."
      ],
      "metadata": {
        "id": "84v4g9inxTA6"
      }
    },
    {
      "cell_type": "code",
      "source": [
        "for i in range (1,11):\n",
        "  print(i)"
      ],
      "metadata": {
        "colab": {
          "base_uri": "https://localhost:8080/"
        },
        "id": "E5YiuhjnxcfM",
        "outputId": "2fe208ee-b797-4403-8676-c55c6fe0b166"
      },
      "execution_count": 19,
      "outputs": [
        {
          "output_type": "stream",
          "name": "stdout",
          "text": [
            "1\n",
            "2\n",
            "3\n",
            "4\n",
            "5\n",
            "6\n",
            "7\n",
            "8\n",
            "9\n",
            "10\n"
          ]
        }
      ]
    },
    {
      "cell_type": "markdown",
      "source": [
        "13.Write a python program to find sum of all even numbers between 1 to 50."
      ],
      "metadata": {
        "id": "QCHpFW3Oxrc8"
      }
    },
    {
      "cell_type": "code",
      "source": [
        "sum = 0\n",
        "for i in range (1,51):\n",
        "  if(i%2==0):\n",
        "    sum = sum + i\n",
        "print(\"Sum is\",sum)"
      ],
      "metadata": {
        "colab": {
          "base_uri": "https://localhost:8080/"
        },
        "id": "0AxBGK3rx5Ar",
        "outputId": "904edf27-3d10-4203-e8c7-9d4b1c7365d4"
      },
      "execution_count": 25,
      "outputs": [
        {
          "output_type": "stream",
          "name": "stdout",
          "text": [
            "Sum is 650\n"
          ]
        }
      ]
    },
    {
      "cell_type": "markdown",
      "source": [
        "14. Write a program to reserve a string using while loop."
      ],
      "metadata": {
        "id": "1aaiy5pCxc1i"
      }
    },
    {
      "cell_type": "code",
      "source": [
        "mystring =\"hello,world\"\n",
        "reservedstring =\"\"\n",
        "index =len(mystring)-1\n",
        "while index >=0:\n",
        "  reservedstring +=mystring[index]\n",
        "  index =index-1\n",
        "print(\"original string\",mystring)\n",
        "print(\"resreved string\",reservedstring)"
      ],
      "metadata": {
        "colab": {
          "base_uri": "https://localhost:8080/"
        },
        "id": "3BC1VzZ0xkaD",
        "outputId": "35353101-b3f0-418a-9a06-bec1906d9eb5"
      },
      "execution_count": 31,
      "outputs": [
        {
          "output_type": "stream",
          "name": "stdout",
          "text": [
            "original string hello,world\n",
            "resreved string dlrow,olleh\n"
          ]
        }
      ]
    },
    {
      "cell_type": "markdown",
      "source": [
        "15. Write a program to calculate the factorial of a number provided by the user using a while loop."
      ],
      "metadata": {
        "id": "ww-F55AWxk1P"
      }
    },
    {
      "cell_type": "code",
      "source": [
        "n = int(input(\"Enter positive number\"))\n",
        "fact =1\n",
        "if n<0:\n",
        "  print(\"factorial cannot be calculated for negative number\")\n",
        "else:\n",
        "  i=1\n",
        "  while n>0:\n",
        "    fact= fact*n\n",
        "    n=n-1\n",
        "  print(\"factorial is: \",fact)"
      ],
      "metadata": {
        "colab": {
          "base_uri": "https://localhost:8080/"
        },
        "id": "pq6vB13_yPz0",
        "outputId": "a8060ba0-c093-4e1b-f388-3dc45612bb0c"
      },
      "execution_count": 43,
      "outputs": [
        {
          "output_type": "stream",
          "name": "stdout",
          "text": [
            "Enter positive number5\n",
            "factorial is:  120\n"
          ]
        }
      ]
    }
  ]
}